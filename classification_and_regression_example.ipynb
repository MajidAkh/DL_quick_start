{
 "cells": [
  {
   "cell_type": "code",
   "execution_count": 16,
   "id": "outside-tamil",
   "metadata": {},
   "outputs": [],
   "source": [
    "from keras.datasets import imdb\n",
    "import numpy as np\n",
    "from keras import models\n",
    "from keras import layers"
   ]
  },
  {
   "cell_type": "markdown",
   "id": "round-harrison",
   "metadata": {},
   "source": [
    "### Binary classification example (IMDB sentiment analysis).\n",
    "\n",
    "In this example, I classify movie reviews as positive or negative, based on the context of the reviews."
   ]
  },
  {
   "cell_type": "code",
   "execution_count": 2,
   "id": "proper-emperor",
   "metadata": {},
   "outputs": [],
   "source": [
    "(train_data, train_labels), (test_data, test_labels) = imdb.load_data(num_words=3000)"
   ]
  },
  {
   "cell_type": "code",
   "execution_count": 23,
   "id": "simple-hearts",
   "metadata": {},
   "outputs": [],
   "source": [
    "def vectorize_sequences(sequences, dimension=3000):\n",
    "    results = np.zeros((len(sequences), dimension))\n",
    "    for i, sequence in enumerate(sequences):\n",
    "        results[i,sequence] = 1\n",
    "    return results"
   ]
  },
  {
   "cell_type": "code",
   "execution_count": 4,
   "id": "acceptable-monroe",
   "metadata": {},
   "outputs": [],
   "source": [
    "x_train = vectorize_sequences(train_data)\n",
    "x_test = vectorize_sequences(test_data)"
   ]
  },
  {
   "cell_type": "code",
   "execution_count": 5,
   "id": "remarkable-overall",
   "metadata": {},
   "outputs": [],
   "source": [
    "y_train = np.asarray(train_labels).astype('float32')\n",
    "y_test = np.asarray(test_labels).astype('float32')"
   ]
  },
  {
   "cell_type": "code",
   "execution_count": 6,
   "id": "banned-forest",
   "metadata": {},
   "outputs": [],
   "source": [
    "x_train = x_train[0:10000]\n",
    "y_train = y_train[0:10000]\n",
    "x_test = x_test[0:10000]\n",
    "y_test = y_test[0:10000]"
   ]
  },
  {
   "cell_type": "code",
   "execution_count": 7,
   "id": "continental-vocabulary",
   "metadata": {},
   "outputs": [],
   "source": [
    "model = models.Sequential()\n",
    "model.add(layers.Dense(16, activation='relu', input_shape=(3000,)))\n",
    "model.add(layers.Dense(16, activation='relu'))\n",
    "model.add(layers.Dense(1, activation='sigmoid'))"
   ]
  },
  {
   "cell_type": "code",
   "execution_count": 8,
   "id": "cross-section",
   "metadata": {},
   "outputs": [],
   "source": [
    "model.compile(optimizer='rmsprop',\n",
    "                loss = 'binary_crossentropy', \n",
    "                 metrics=['accuracy'])"
   ]
  },
  {
   "cell_type": "code",
   "execution_count": 9,
   "id": "fleet-configuration",
   "metadata": {},
   "outputs": [],
   "source": [
    "x_val = x_train[:3000]\n",
    "partial_x_train = x_train[3000:]"
   ]
  },
  {
   "cell_type": "code",
   "execution_count": 10,
   "id": "olive-bouquet",
   "metadata": {},
   "outputs": [],
   "source": [
    "y_val = y_train[:3000]\n",
    "partial_y_train = y_train[3000:]"
   ]
  },
  {
   "cell_type": "code",
   "execution_count": 11,
   "id": "angry-optimization",
   "metadata": {},
   "outputs": [
    {
     "name": "stdout",
     "output_type": "stream",
     "text": [
      "Epoch 1/10\n",
      "14/14 [==============================] - 3s 163ms/step - loss: 0.6111 - accuracy: 0.7091 - val_loss: 0.5373 - val_accuracy: 0.7567\n",
      "Epoch 2/10\n",
      "14/14 [==============================] - 0s 7ms/step - loss: 0.4589 - accuracy: 0.8427 - val_loss: 0.4409 - val_accuracy: 0.8327\n",
      "Epoch 3/10\n",
      "14/14 [==============================] - 0s 10ms/step - loss: 0.3709 - accuracy: 0.8796 - val_loss: 0.3882 - val_accuracy: 0.8443\n",
      "Epoch 4/10\n",
      "14/14 [==============================] - 0s 7ms/step - loss: 0.3139 - accuracy: 0.9013 - val_loss: 0.3538 - val_accuracy: 0.8567\n",
      "Epoch 5/10\n",
      "14/14 [==============================] - 0s 7ms/step - loss: 0.2717 - accuracy: 0.9086 - val_loss: 0.3363 - val_accuracy: 0.8627\n",
      "Epoch 6/10\n",
      "14/14 [==============================] - 0s 7ms/step - loss: 0.2370 - accuracy: 0.9250 - val_loss: 0.3363 - val_accuracy: 0.8590\n",
      "Epoch 7/10\n",
      "14/14 [==============================] - 0s 7ms/step - loss: 0.2152 - accuracy: 0.9311 - val_loss: 0.3339 - val_accuracy: 0.8633\n",
      "Epoch 8/10\n",
      "14/14 [==============================] - 0s 7ms/step - loss: 0.1921 - accuracy: 0.9391 - val_loss: 0.3211 - val_accuracy: 0.8693\n",
      "Epoch 9/10\n",
      "14/14 [==============================] - 0s 7ms/step - loss: 0.1702 - accuracy: 0.9467 - val_loss: 0.3399 - val_accuracy: 0.8620\n",
      "Epoch 10/10\n",
      "14/14 [==============================] - 0s 6ms/step - loss: 0.1567 - accuracy: 0.9504 - val_loss: 0.3328 - val_accuracy: 0.8660\n"
     ]
    }
   ],
   "source": [
    "history = model.fit(partial_x_train,\n",
    "                    partial_y_train,\n",
    "                    epochs=10,\n",
    "                    batch_size=512,\n",
    "                    validation_data = (x_val, y_val))"
   ]
  },
  {
   "cell_type": "code",
   "execution_count": 12,
   "id": "powerful-relaxation",
   "metadata": {},
   "outputs": [],
   "source": [
    "history_dict = history.history"
   ]
  },
  {
   "cell_type": "code",
   "execution_count": 13,
   "id": "fantastic-profession",
   "metadata": {},
   "outputs": [
    {
     "data": {
      "text/plain": [
       "dict_keys(['loss', 'accuracy', 'val_loss', 'val_accuracy'])"
      ]
     },
     "execution_count": 13,
     "metadata": {},
     "output_type": "execute_result"
    }
   ],
   "source": [
    "history_dict.keys()"
   ]
  },
  {
   "cell_type": "code",
   "execution_count": 14,
   "id": "rural-restaurant",
   "metadata": {},
   "outputs": [
    {
     "data": {
      "image/png": "[encoded data removed]",
      "text/plain": [
       "<Figure size 432x288 with 1 Axes>"
      ]
     },
     "metadata": {
      "needs_background": "light"
     },
     "output_type": "display_data"
    }
   ],
   "source": [
    "import matplotlib.pyplot as plt\n",
    "\n",
    "history_dict = history.history \n",
    "loss_values = history_dict['loss']\n",
    "val_loss_values = history_dict['val_loss']\n",
    "\n",
    "epochs = range(1,11)\n",
    "\n",
    "plt.plot(epochs, loss_values, 'bo', label='Training loss')\n",
    "plt.plot(epochs, val_loss_values, 'b', label='Validation loss')\n",
    "plt.title('Training and validation loss')\n",
    "plt.xlabel('Epochs')\n",
    "plt.ylabel('Loss')\n",
    "plt.legend()\n",
    "\n",
    "plt.show()"
   ]
  },
  {
   "cell_type": "code",
   "execution_count": 16,
   "id": "freelance-athletics",
   "metadata": {},
   "outputs": [
    {
     "data": {
      "image/png": "[encoded data removed]",
      "text/plain": [
       "<Figure size 432x288 with 1 Axes>"
      ]
     },
     "metadata": {
      "needs_background": "light"
     },
     "output_type": "display_data"
    }
   ],
   "source": [
    "plt.clf()\n",
    "acc_values = history_dict['accuracy']\n",
    "val_acc_values = history_dict['val_accuracy']\n",
    "\n",
    "plt.plot(epochs, acc_values, 'bo', label = 'Training acc')\n",
    "plt.plot(epochs, val_acc_values, 'b', label='Validation acc')\n",
    "plt.title('training and validation accuracy')\n",
    "plt.xlabel('Epochs')\n",
    "plt.ylabel('Loss')\n",
    "plt.legend()\n",
    "\n",
    "plt.show()"
   ]
  },
  {
   "cell_type": "markdown",
   "id": "blank-device",
   "metadata": {},
   "source": [
    "Overfitting at the fourth epochs. I'll train a new network from scratch for four epochs and then evaluate it on the test data."
   ]
  },
  {
   "cell_type": "code",
   "execution_count": 20,
   "id": "abstract-wheel",
   "metadata": {},
   "outputs": [
    {
     "name": "stdout",
     "output_type": "stream",
     "text": [
      "Epoch 1/4\n",
      "79/79 [==============================] - 1s 2ms/step - loss: 0.4610 - accuracy: 0.8023\n",
      "Epoch 2/4\n",
      "79/79 [==============================] - 0s 2ms/step - loss: 0.2778 - accuracy: 0.8928\n",
      "Epoch 3/4\n",
      "79/79 [==============================] - 0s 2ms/step - loss: 0.2231 - accuracy: 0.9154\n",
      "Epoch 4/4\n",
      "79/79 [==============================] - 0s 2ms/step - loss: 0.1971 - accuracy: 0.9230\n",
      "313/313 [==============================] - 1s 868us/step - loss: 0.3383 - accuracy: 0.8672\n"
     ]
    }
   ],
   "source": [
    "model = models.Sequential()\n",
    "model.add(layers.Dense(16,activation='relu', input_shape=(3000,)))\n",
    "model.add(layers.Dense(16,activation='relu'))\n",
    "model.add(layers.Dense(1, activation='sigmoid'))\n",
    "\n",
    "model.compile(optimizer='rmsprop', \n",
    "             loss = 'binary_crossentropy', \n",
    "             metrics = ['accuracy'])\n",
    "\n",
    "model.fit(x_train, y_train, epochs=4, batch_size=128)\n",
    "results = model.evaluate(x_test, y_test)"
   ]
  },
  {
   "cell_type": "markdown",
   "id": "cross-azerbaijan",
   "metadata": {},
   "source": [
    "### Multiclass classification example (IMDB sentiment analysis)."
   ]
  },
  {
   "cell_type": "markdown",
   "id": "bibliographic-truck",
   "metadata": {},
   "source": [
    "Here I'll build a network to classify Reuters newswires into 46 mutually exclusive topics."
   ]
  },
  {
   "cell_type": "code",
   "execution_count": 1,
   "id": "eleven-gamma",
   "metadata": {},
   "outputs": [],
   "source": [
    "from keras.datasets import reuters\n"
   ]
  },
  {
   "cell_type": "code",
   "execution_count": 2,
   "id": "official-wages",
   "metadata": {},
   "outputs": [
    {
     "name": "stdout",
     "output_type": "stream",
     "text": [
      "Downloading data from https://storage.googleapis.com/tensorflow/tf-keras-datasets/reuters.npz\n",
      "2113536/2110848 [==============================] - 10s 5us/step\n",
      "2121728/2110848 [==============================] - 10s 5us/step\n"
     ]
    }
   ],
   "source": [
    "(train_data, y_train), (test_data, test_labels) =  reuters.load_data(num_words=3000)"
   ]
  },
  {
   "cell_type": "code",
   "execution_count": 4,
   "id": "sexual-jacob",
   "metadata": {},
   "outputs": [
    {
     "data": {
      "text/plain": [
       "8982"
      ]
     },
     "execution_count": 4,
     "metadata": {},
     "output_type": "execute_result"
    }
   ],
   "source": [
    "len(train_data)"
   ]
  },
  {
   "cell_type": "code",
   "execution_count": 5,
   "id": "italian-socket",
   "metadata": {},
   "outputs": [
    {
     "data": {
      "text/plain": [
       "2246"
      ]
     },
     "execution_count": 5,
     "metadata": {},
     "output_type": "execute_result"
    }
   ],
   "source": [
    "len(test_data)"
   ]
  },
  {
   "cell_type": "code",
   "execution_count": 24,
   "id": "attended-basics",
   "metadata": {},
   "outputs": [],
   "source": [
    "x_train = vectorize_sequences(train_data)\n",
    "x_test = vectorize_sequences(test_data)"
   ]
  },
  {
   "cell_type": "code",
   "execution_count": 9,
   "id": "caroline-privilege",
   "metadata": {},
   "outputs": [],
   "source": [
    "word_index = reuters.get_word_index()\n",
    "reverse_word_index = dict([(value,key) for (key,value) in word_index.items()])\n",
    "decoded_newswire = ''.join([reverse_word_index.get(i-3,'?') for i in train_data[10]])"
   ]
  },
  {
   "cell_type": "code",
   "execution_count": 18,
   "id": "infrared-mother",
   "metadata": {},
   "outputs": [],
   "source": [
    "def to_one_hot(labels, dimension=46):\n",
    "    results = np.zeros((len(labels), dimension))\n",
    "    \n",
    "    for  i, label in enumerate(labels):\n",
    "        results[i,label] =1\n",
    "    return results"
   ]
  },
  {
   "cell_type": "code",
   "execution_count": 19,
   "id": "false-pizza",
   "metadata": {},
   "outputs": [],
   "source": [
    "ont_hot_train_labels = to_one_hot(y_train)\n",
    "ont_hot_test_labels = to_one_hot(test_labels)"
   ]
  },
  {
   "cell_type": "code",
   "execution_count": 25,
   "id": "comprehensive-defendant",
   "metadata": {},
   "outputs": [],
   "source": [
    "x_train = x_train[0:10000]\n",
    "y_train = ont_hot_train_labels[0:10000]\n",
    "x_test = x_test[0:10000]\n",
    "y_test = ont_hot_test_labels[0:10000]"
   ]
  },
  {
   "cell_type": "code",
   "execution_count": 32,
   "id": "funded-instruction",
   "metadata": {},
   "outputs": [],
   "source": [
    "model = models.Sequential()\n",
    "model.add(layers.Dense(64, activation='relu',input_shape=(3000, )))\n",
    "model.add(layers.Dense(64, activation='relu'))\n",
    "model.add(layers.Dense(46, activation='softmax'))"
   ]
  },
  {
   "cell_type": "code",
   "execution_count": 34,
   "id": "fluid-speed",
   "metadata": {},
   "outputs": [],
   "source": [
    "model.compile(optimizer = 'rmsprop', \n",
    "                 loss = 'categorical_crossentropy',\n",
    "                 metrics = ['accuracy'])"
   ]
  },
  {
   "cell_type": "code",
   "execution_count": 35,
   "id": "saved-charleston",
   "metadata": {},
   "outputs": [],
   "source": [
    "x_val = x_train[:1000]\n",
    "partial_x_train = x_train[1000:]\n",
    "\n",
    "y_val = y_train[:1000]\n",
    "partial_y_train = y_train[1000:]"
   ]
  },
  {
   "cell_type": "code",
   "execution_count": 36,
   "id": "starting-gravity",
   "metadata": {},
   "outputs": [
    {
     "name": "stdout",
     "output_type": "stream",
     "text": [
      "Epoch 1/10\n",
      "63/63 [==============================] - 1s 6ms/step - loss: 1.8809 - accuracy: 0.6030 - val_loss: 1.2550 - val_accuracy: 0.7210\n",
      "Epoch 2/10\n",
      "63/63 [==============================] - 0s 4ms/step - loss: 1.0464 - accuracy: 0.7720 - val_loss: 1.0433 - val_accuracy: 0.7760\n",
      "Epoch 3/10\n",
      "63/63 [==============================] - 0s 4ms/step - loss: 0.7680 - accuracy: 0.8289 - val_loss: 0.9124 - val_accuracy: 0.8060\n",
      "Epoch 4/10\n",
      "63/63 [==============================] - 0s 5ms/step - loss: 0.5788 - accuracy: 0.8727 - val_loss: 0.8587 - val_accuracy: 0.8110\n",
      "Epoch 5/10\n",
      "63/63 [==============================] - 0s 4ms/step - loss: 0.4462 - accuracy: 0.9010 - val_loss: 0.8884 - val_accuracy: 0.8010\n",
      "Epoch 6/10\n",
      "63/63 [==============================] - 0s 4ms/step - loss: 0.3533 - accuracy: 0.9223 - val_loss: 0.8498 - val_accuracy: 0.8140\n",
      "Epoch 7/10\n",
      "63/63 [==============================] - 0s 4ms/step - loss: 0.2889 - accuracy: 0.9340 - val_loss: 0.8905 - val_accuracy: 0.8190\n",
      "Epoch 8/10\n",
      "63/63 [==============================] - 0s 4ms/step - loss: 0.2428 - accuracy: 0.9430 - val_loss: 0.9084 - val_accuracy: 0.8040\n",
      "Epoch 9/10\n",
      "63/63 [==============================] - 0s 5ms/step - loss: 0.2132 - accuracy: 0.9460 - val_loss: 0.9221 - val_accuracy: 0.8140\n",
      "Epoch 10/10\n",
      "63/63 [==============================] - 0s 4ms/step - loss: 0.1912 - accuracy: 0.9500 - val_loss: 1.0044 - val_accuracy: 0.7970\n"
     ]
    }
   ],
   "source": [
    "history = model.fit(partial_x_train,partial_y_train, epochs = 10, batch_size=128, validation_data=(x_val,y_val))"
   ]
  },
  {
   "cell_type": "code",
   "execution_count": 37,
   "id": "stuffed-engine",
   "metadata": {},
   "outputs": [
    {
     "data": {
      "image/png": "[encoded data removed]",
      "text/plain": [
       "<Figure size 432x288 with 1 Axes>"
      ]
     },
     "metadata": {
      "needs_background": "light"
     },
     "output_type": "display_data"
    }
   ],
   "source": [
    "import matplotlib.pyplot as plt\n",
    "\n",
    "history_dict = history.history \n",
    "loss_values = history_dict['loss']\n",
    "val_loss_values = history_dict['val_loss']\n",
    "\n",
    "epochs = range(1,11)\n",
    "\n",
    "plt.plot(epochs, loss_values, 'bo', label='Training loss')\n",
    "plt.plot(epochs, val_loss_values, 'b', label='Validation loss')\n",
    "plt.title('Training and validation loss')\n",
    "plt.xlabel('Epochs')\n",
    "plt.ylabel('Loss')\n",
    "plt.legend()\n",
    "\n",
    "plt.show()"
   ]
  },
  {
   "cell_type": "code",
   "execution_count": 38,
   "id": "median-columbus",
   "metadata": {},
   "outputs": [
    {
     "data": {
      "image/png": "[encoded data removed]",
      "text/plain": [
       "<Figure size 432x288 with 1 Axes>"
      ]
     },
     "metadata": {
      "needs_background": "light"
     },
     "output_type": "display_data"
    }
   ],
   "source": [
    "plt.clf()\n",
    "acc_values = history_dict['accuracy']\n",
    "val_acc_values = history_dict['val_accuracy']\n",
    "\n",
    "plt.plot(epochs, acc_values, 'bo', label = 'Training acc')\n",
    "plt.plot(epochs, val_acc_values, 'b', label='Validation acc')\n",
    "plt.title('training and validation accuracy')\n",
    "plt.xlabel('Epochs')\n",
    "plt.ylabel('Loss')\n",
    "plt.legend()\n",
    "\n",
    "plt.show()"
   ]
  },
  {
   "cell_type": "markdown",
   "id": "stock-actor",
   "metadata": {},
   "source": [
    "### Predicting house prices:  a regression example.\n",
    "I'll attempt to predict the median price of homes in a given Boston suburb in the mid-1970s, given data points about the suburb at the time, such as the crime rate, the local property tax rate and so on."
   ]
  },
  {
   "cell_type": "code",
   "execution_count": 39,
   "id": "authentic-correction",
   "metadata": {},
   "outputs": [
    {
     "name": "stdout",
     "output_type": "stream",
     "text": [
      "Downloading data from https://storage.googleapis.com/tensorflow/tf-keras-datasets/boston_housing.npz\n",
      "57344/57026 [==============================] - 0s 3us/step\n",
      "65536/57026 [==================================] - 0s 2us/step\n"
     ]
    }
   ],
   "source": [
    "from keras.datasets import boston_housing\n",
    "\n",
    "(train_data, train_targets), (test_data, test_targets) = boston_housing.load_data()"
   ]
  },
  {
   "cell_type": "code",
   "execution_count": 40,
   "id": "charitable-vermont",
   "metadata": {},
   "outputs": [
    {
     "data": {
      "text/plain": [
       "(404, 13)"
      ]
     },
     "execution_count": 40,
     "metadata": {},
     "output_type": "execute_result"
    }
   ],
   "source": [
    "train_data.shape"
   ]
  },
  {
   "cell_type": "code",
   "execution_count": 41,
   "id": "handmade-spectacular",
   "metadata": {},
   "outputs": [
    {
     "data": {
      "text/plain": [
       "(102, 13)"
      ]
     },
     "execution_count": 41,
     "metadata": {},
     "output_type": "execute_result"
    }
   ],
   "source": [
    "test_data.shape"
   ]
  },
  {
   "cell_type": "code",
   "execution_count": 42,
   "id": "defined-salad",
   "metadata": {},
   "outputs": [],
   "source": [
    "mean = train_data.mean(axis=0)\n",
    "train_data -= mean\n",
    "std = train_data.std(axis = 0)\n",
    "train_data /= std\n",
    "\n",
    "test_data -= mean\n",
    "test_data /= std"
   ]
  },
  {
   "cell_type": "code",
   "execution_count": 45,
   "id": "binding-accounting",
   "metadata": {},
   "outputs": [],
   "source": [
    "def build_model():\n",
    "    \n",
    "    model = models.Sequential()\n",
    "    model.add(layers.Dense(64, activation='relu', input_shape = (train_data.shape[1],)))\n",
    "    model.add(layers.Dense(64, activation='relu'))\n",
    "    model.add(layers.Dense(1))\n",
    "    \n",
    "    model.compile(optimizer='rmsprop',loss='mse', metrics = ['mae'])\n",
    "    \n",
    "    return model"
   ]
  },
  {
   "cell_type": "code",
   "execution_count": 101,
   "id": "digital-telescope",
   "metadata": {},
   "outputs": [
    {
     "name": "stdout",
     "output_type": "stream",
     "text": [
      "processing fold # 0\n",
      "processing fold # 1\n",
      "processing fold # 2\n",
      "processing fold # 3\n"
     ]
    }
   ],
   "source": [
    "k = 4\n",
    "num_val_samples = len(train_data) // k\n",
    "num_epochs = 400\n",
    "all_mae_history = []\n",
    "\n",
    "for i in range(k):\n",
    "    print('processing fold #', i)\n",
    "    val_data = train_data[i*num_val_samples: (i+1)*num_val_samples]\n",
    "    val_targets = train_targets[i*num_val_samples: (i+1) * num_val_samples]\n",
    "    \n",
    "    partial_train_data = np.concatenate([train_data[:i*num_val_samples], train_data[(i+1)*num_val_samples:]], axis = 0)\n",
    "    partial_train_targets = np.concatenate([train_targets[:i*num_val_samples], train_targets[(i+1)*num_val_samples:]], axis =0)\n",
    "    \n",
    "    model = build_model()\n",
    "    history = model.fit(partial_train_data, partial_train_targets, validation_data=(val_data,val_targets), epochs = num_epochs, batch_size=1, verbose=0)\n",
    "    mae_history = history.history['val_mae']\n",
    "    all_mae_history.append(mae_history)"
   ]
  },
  {
   "cell_type": "code",
   "execution_count": 102,
   "id": "protecting-moore",
   "metadata": {},
   "outputs": [],
   "source": [
    "average_mae_history = [np.mean([x[i] for x in all_mae_history]) for i in range(num_epochs)]"
   ]
  },
  {
   "cell_type": "code",
   "execution_count": 103,
   "id": "rational-medicaid",
   "metadata": {},
   "outputs": [
    {
     "data": {
      "image/png": "[encoded data removed]",
      "text/plain": [
       "<Figure size 432x288 with 1 Axes>"
      ]
     },
     "metadata": {
      "needs_background": "light"
     },
     "output_type": "display_data"
    }
   ],
   "source": [
    "plt.plot(range(1, len(average_mae_history)+1), average_mae_history)\n",
    "plt.xlabel('Epochs')\n",
    "plt.ylabel('Validation MAE')\n",
    "plt.show()"
   ]
  },
  {
   "cell_type": "code",
   "execution_count": 104,
   "id": "centered-module",
   "metadata": {},
   "outputs": [],
   "source": [
    "def smooth_curve(points, factor = 0.9):\n",
    "    smoothed_points = []\n",
    "    \n",
    "    for point in points:\n",
    "        if smoothed_points:\n",
    "            previous = smoothed_points[-1]\n",
    "            smoothed_points.append(previous * factor + point * (1-factor))\n",
    "        else:\n",
    "            smoothed_points.append(point)\n",
    "    return smoothed_points\n",
    "\n",
    "smooth_mae_history = smooth_curve(average_mae_history[10:])"
   ]
  },
  {
   "cell_type": "code",
   "execution_count": 105,
   "id": "eleven-certification",
   "metadata": {},
   "outputs": [
    {
     "data": {
      "image/png": "[encoded data removed]",
      "text/plain": [
       "<Figure size 432x288 with 1 Axes>"
      ]
     },
     "metadata": {
      "needs_background": "light"
     },
     "output_type": "display_data"
    }
   ],
   "source": [
    "plt.plot(range(1,len(smooth_mae_history)+1), smooth_mae_history)\n",
    "plt.xlabel('Epochs')\n",
    "plt.ylabel('Validation MAE')\n",
    "plt.show()"
   ]
  },
  {
   "cell_type": "code",
   "execution_count": 114,
   "id": "mechanical-appendix",
   "metadata": {},
   "outputs": [
    {
     "name": "stdout",
     "output_type": "stream",
     "text": [
      "4/4 [==============================] - 0s 954us/step - loss: 17.1628 - mae: 2.5311\n"
     ]
    }
   ],
   "source": [
    "model = build_model()\n",
    "model.fit(train_data, train_targets, epochs=80, batch_size=16, verbose =0)\n",
    "test_mse_score, test_mae_score = model.evaluate(test_data, test_targets)"
   ]
  },
  {
   "cell_type": "code",
   "execution_count": 115,
   "id": "unsigned-grass",
   "metadata": {},
   "outputs": [
    {
     "data": {
      "text/plain": [
       "2.5310819149017334"
      ]
     },
     "execution_count": 115,
     "metadata": {},
     "output_type": "execute_result"
    }
   ],
   "source": [
    "test_mae_score"
   ]
  },
  {
   "cell_type": "code",
   "execution_count": null,
   "id": "military-madison",
   "metadata": {},
   "outputs": [],
   "source": []
  }
 ],
 "metadata": {
  "kernelspec": {
   "display_name": "Python 3",
   "language": "python",
   "name": "python3"
  },
  "language_info": {
   "codemirror_mode": {
    "name": "ipython",
    "version": 3
   },
   "file_extension": ".py",
   "mimetype": "text/x-python",
   "name": "python",
   "nbconvert_exporter": "python",
   "pygments_lexer": "ipython3",
   "version": "3.7.9"
  }
 },
 "nbformat": 4,
 "nbformat_minor": 5
}
